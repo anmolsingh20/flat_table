{
 "cells": [
  {
   "cell_type": "markdown",
   "metadata": {},
   "source": [
    "## Normalization on Yaml Files\n",
    "\n",
    "Following is an implementation of normalization on `.yaml` files."
   ]
  },
  {
   "cell_type": "markdown",
   "metadata": {},
   "source": [
    "### Imports"
   ]
  },
  {
   "cell_type": "code",
   "execution_count": 1,
   "metadata": {},
   "outputs": [],
   "source": [
    "import os\n",
    "import sys"
   ]
  },
  {
   "cell_type": "code",
   "execution_count": 2,
   "metadata": {},
   "outputs": [
    {
     "data": {
      "text/plain": [
       "('/Users/owl/Projects/normalization/notebooks',\n",
       " '/Users/owl/Projects/normalization')"
      ]
     },
     "execution_count": 2,
     "metadata": {},
     "output_type": "execute_result"
    }
   ],
   "source": [
    "currentdir = os.path.dirname(os.path.realpath('__file__'))\n",
    "parentdir = os.path.dirname(currentdir)\n",
    "sys.path.insert(0, parentdir)\n",
    "currentdir, parentdir"
   ]
  },
  {
   "cell_type": "code",
   "execution_count": 3,
   "metadata": {},
   "outputs": [],
   "source": [
    "import yaml\n",
    "from norm import *\n",
    "import norm"
   ]
  },
  {
   "cell_type": "markdown",
   "metadata": {},
   "source": [
    "### Data"
   ]
  },
  {
   "cell_type": "code",
   "execution_count": 4,
   "metadata": {
    "scrolled": true
   },
   "outputs": [],
   "source": [
    "source = yaml.load(open('../data/legislators-historical.yaml').read())\n",
    "source2 = yaml.load(open('../data/executive.yaml').read())\n",
    "source3 = yaml.load(open('../data/committees-current.yaml').read())"
   ]
  },
  {
   "cell_type": "markdown",
   "metadata": {},
   "source": [
    "### Analysis"
   ]
  },
  {
   "cell_type": "markdown",
   "metadata": {},
   "source": [
    "A seri can be transformed into:\n",
    "\n",
    "    1. Expanded into rows\n",
    "    2. Expendad to columns\n",
    "    3. Kept as is\n",
    "   \n",
    "    * Each individual seri has parent df name, self name, and self.\n",
    "    * if parent and self has the same name ==> it is an object\n",
    "    * if parent and \n",
    "    "
   ]
  },
  {
   "cell_type": "markdown",
   "metadata": {},
   "source": [
    "#### Source 1"
   ]
  },
  {
   "cell_type": "code",
   "execution_count": 5,
   "metadata": {},
   "outputs": [
    {
     "name": "stderr",
     "output_type": "stream",
     "text": [
      "2019-09-25 20:21:45,006 - INFO - .                                        bio                  dict            (11807,)  \n",
      "2019-09-25 20:21:45,146 - INFO - .bio                                     birthday             str             (11807,)  \n",
      "2019-09-25 20:21:45,156 - INFO - .bio                                     gender               str             (11807,)  \n",
      "2019-09-25 20:21:45,161 - INFO - .bio                                     religion             str             (11807,)  \n",
      "2019-09-25 20:21:45,165 - INFO - .bio                                     religion             str             (11807,)  \n",
      "2019-09-25 20:21:45,177 - INFO - .bio                                     gender               str             (11807,)  \n",
      "2019-09-25 20:21:45,201 - INFO - .bio                                     birthday             str             (11807,)  \n",
      "2019-09-25 20:21:45,206 - INFO - .                                        family               list            (11807,)  \n",
      "2019-09-25 20:21:45,730 - INFO - <Trial #  type: <class 'float'> , len: 11812>\n",
      "2019-09-25 20:21:45,735 - INFO - .family                                  family               dict            (11812,)  \n",
      "2019-09-25 20:21:45,739 - INFO - .family                                  family               dict            (11812,)  \n",
      "2019-09-25 20:21:45,756 - INFO - .family.family                           name                 str             (11812,)  \n",
      "2019-09-25 20:21:45,759 - INFO - .family.family                           relation             str             (11812,)  \n",
      "2019-09-25 20:21:45,762 - INFO - .family.family                           relation             str             (11812,)  \n",
      "2019-09-25 20:21:45,766 - INFO - .family.family                           name                 str             (11812,)  \n",
      "2019-09-25 20:21:45,778 - INFO - .                                        id                   dict            (11807,)  \n",
      "2019-09-25 20:21:46,043 - INFO - .id                                      ballotpedia          str             (11807,)  \n",
      "2019-09-25 20:21:46,058 - INFO - .id                                      bioguide             str             (11807,)  \n",
      "2019-09-25 20:21:46,061 - INFO - .id                                      bioguide_previous    list            (11807,)  \n",
      "2019-09-25 20:21:46,065 - INFO - .id                                      cspan                float           (11807,)  \n",
      "2019-09-25 20:21:46,069 - INFO - .id                                      fec                  list            (11807,)  \n",
      "2019-09-25 20:21:46,080 - INFO - .id                                      govtrack             int             (11807,)  \n",
      "2019-09-25 20:21:46,091 - INFO - .id                                      house_history        float           (11807,)  \n",
      "2019-09-25 20:21:46,094 - INFO - .id                                      house_history_alternate float           (11807,)  \n",
      "2019-09-25 20:21:46,104 - INFO - .id                                      icpsr                float           (11807,)  \n",
      "2019-09-25 20:21:46,109 - INFO - .id                                      lis                  str             (11807,)  \n",
      "2019-09-25 20:21:46,113 - INFO - .id                                      maplight             float           (11807,)  \n",
      "2019-09-25 20:21:46,118 - INFO - .id                                      opensecrets          str             (11807,)  \n",
      "2019-09-25 20:21:46,122 - INFO - .id                                      thomas               str             (11807,)  \n",
      "2019-09-25 20:21:46,127 - INFO - .id                                      votesmart            float           (11807,)  \n",
      "2019-09-25 20:21:46,131 - INFO - .id                                      washington_post      str             (11807,)  \n",
      "2019-09-25 20:21:46,136 - INFO - .id                                      wikidata             str             (11807,)  \n",
      "2019-09-25 20:21:46,153 - INFO - .id                                      wikipedia            str             (11807,)  \n",
      "2019-09-25 20:21:46,169 - INFO - .id                                      wikipedia            str             (11807,)  \n",
      "2019-09-25 20:21:46,172 - INFO - .id                                      wikidata             str             (11807,)  \n",
      "2019-09-25 20:21:46,178 - INFO - .id                                      washington_post      str             (11807,)  \n",
      "2019-09-25 20:21:46,182 - INFO - .id                                      votesmart            float           (11807,)  \n",
      "2019-09-25 20:21:46,188 - INFO - .id                                      thomas               str             (11807,)  \n",
      "2019-09-25 20:21:46,192 - INFO - .id                                      opensecrets          str             (11807,)  \n",
      "2019-09-25 20:21:46,196 - INFO - .id                                      maplight             float           (11807,)  \n",
      "2019-09-25 20:21:46,201 - INFO - .id                                      lis                  str             (11807,)  \n",
      "2019-09-25 20:21:46,212 - INFO - .id                                      icpsr                float           (11807,)  \n",
      "2019-09-25 20:21:46,216 - INFO - .id                                      house_history_alternate float           (11807,)  \n",
      "2019-09-25 20:21:46,225 - INFO - .id                                      house_history        float           (11807,)  \n",
      "2019-09-25 20:21:46,236 - INFO - .id                                      govtrack             int             (11807,)  \n",
      "2019-09-25 20:21:46,241 - INFO - .id                                      fec                  list            (11807,)  \n",
      "2019-09-25 20:21:46,762 - INFO - <Trial #  type: <class 'float'> , len: 11825>\n",
      "2019-09-25 20:21:46,767 - INFO - .id.fec                                  fec                  str             (11825,)  \n",
      "2019-09-25 20:21:46,771 - INFO - .id.fec                                  fec                  str             (11825,)  \n",
      "2019-09-25 20:21:46,775 - INFO - .id                                      cspan                float           (11807,)  \n",
      "2019-09-25 20:21:46,778 - INFO - .id                                      bioguide_previous    list            (11807,)  \n",
      "2019-09-25 20:21:47,253 - INFO - <Trial #  type: <class 'float'> , len: 11807>\n",
      "2019-09-25 20:21:47,256 - INFO - .id.bioguide_previous                    bioguide_previous    str             (11807,)  \n",
      "2019-09-25 20:21:47,259 - INFO - .id.bioguide_previous                    bioguide_previous    str             (11807,)  \n",
      "2019-09-25 20:21:47,281 - INFO - .id                                      bioguide             str             (11807,)  \n",
      "2019-09-25 20:21:47,285 - INFO - .id                                      ballotpedia          str             (11807,)  \n",
      "2019-09-25 20:21:47,289 - INFO - .                                        leadership_roles     list            (11807,)  \n",
      "2019-09-25 20:21:47,784 - INFO - <Trial #  type: <class 'float'> , len: 11810>\n",
      "2019-09-25 20:21:47,787 - INFO - .leadership_roles                        leadership_roles     dict            (11810,)  \n",
      "2019-09-25 20:21:47,791 - INFO - .leadership_roles                        leadership_roles     dict            (11810,)  \n",
      "2019-09-25 20:21:47,810 - INFO - .leadership_roles.leadership_roles       chamber              str             (11810,)  \n",
      "2019-09-25 20:21:47,813 - INFO - .leadership_roles.leadership_roles       end                  str             (11810,)  \n",
      "2019-09-25 20:21:47,818 - INFO - .leadership_roles.leadership_roles       start                str             (11810,)  \n",
      "2019-09-25 20:21:47,823 - INFO - .leadership_roles.leadership_roles       title                str             (11810,)  \n",
      "2019-09-25 20:21:47,828 - INFO - .leadership_roles.leadership_roles       title                str             (11810,)  \n",
      "2019-09-25 20:21:47,832 - INFO - .leadership_roles.leadership_roles       start                str             (11810,)  \n",
      "2019-09-25 20:21:47,838 - INFO - .leadership_roles.leadership_roles       end                  str             (11810,)  \n",
      "2019-09-25 20:21:47,841 - INFO - .leadership_roles.leadership_roles       chamber              str             (11810,)  \n",
      "2019-09-25 20:21:47,858 - INFO - .                                        name                 dict            (11807,)  \n",
      "2019-09-25 20:21:48,046 - INFO - .name                                    first                str             (11807,)  \n",
      "2019-09-25 20:21:48,068 - INFO - .name                                    last                 str             (11807,)  \n",
      "2019-09-25 20:21:48,087 - INFO - .name                                    middle               str             (11807,)  \n",
      "2019-09-25 20:21:48,092 - INFO - .name                                    nickname             str             (11807,)  \n",
      "2019-09-25 20:21:48,097 - INFO - .name                                    official_full        str             (11807,)  \n",
      "2019-09-25 20:21:48,103 - INFO - .name                                    suffix               str             (11807,)  \n",
      "2019-09-25 20:21:48,108 - INFO - .name                                    suffix               str             (11807,)  \n",
      "2019-09-25 20:21:48,112 - INFO - .name                                    official_full        str             (11807,)  \n",
      "2019-09-25 20:21:48,115 - INFO - .name                                    nickname             str             (11807,)  \n",
      "2019-09-25 20:21:48,136 - INFO - .name                                    middle               str             (11807,)  \n",
      "2019-09-25 20:21:48,161 - INFO - .name                                    last                 str             (11807,)  \n",
      "2019-09-25 20:21:48,187 - INFO - .name                                    first                str             (11807,)  \n",
      "2019-09-25 20:21:48,192 - INFO - .                                        other_names          list            (11807,)  \n",
      "2019-09-25 20:21:48,680 - INFO - <Trial #  type: <class 'float'> , len: 11807>\n",
      "2019-09-25 20:21:48,684 - INFO - .other_names                             other_names          dict            (11807,)  \n",
      "2019-09-25 20:21:48,686 - INFO - .other_names                             other_names          dict            (11807,)  \n",
      "2019-09-25 20:21:48,706 - INFO - .other_names.other_names                 end                  str             (11807,)  \n",
      "2019-09-25 20:21:48,710 - INFO - .other_names.other_names                 last                 str             (11807,)  \n",
      "2019-09-25 20:21:48,713 - INFO - .other_names.other_names                 middle               float           (11807,)  \n",
      "2019-09-25 20:21:48,716 - INFO - .other_names.other_names                 middle               float           (11807,)  \n",
      "2019-09-25 20:21:48,721 - INFO - .other_names.other_names                 last                 str             (11807,)  \n",
      "2019-09-25 20:21:48,726 - INFO - .other_names.other_names                 end                  str             (11807,)  \n",
      "2019-09-25 20:21:48,743 - INFO - .                                        terms                list            (11807,)  \n",
      "2019-09-25 20:21:49,732 - INFO - <Trial #  type: <class 'dict'> , len: 40092>\n",
      "2019-09-25 20:21:49,765 - INFO - .terms                                   terms                dict            (40092,)  \n",
      "2019-09-25 20:21:49,802 - INFO - .terms                                   terms                dict            (40092,)  \n",
      "2019-09-25 20:21:50,864 - INFO - .terms.terms                             address              str             (40092,)  \n",
      "2019-09-25 20:21:50,870 - INFO - .terms.terms                             class                float           (40092,)  \n",
      "2019-09-25 20:21:50,874 - INFO - .terms.terms                             contact_form         str             (40092,)  \n",
      "2019-09-25 20:21:50,898 - INFO - .terms.terms                             district             float           (40092,)  \n",
      "2019-09-25 20:21:50,949 - INFO - .terms.terms                             end                  str             (40092,)  \n",
      "2019-09-25 20:21:50,954 - INFO - .terms.terms                             fax                  str             (40092,)  \n",
      "2019-09-25 20:21:50,960 - INFO - .terms.terms                             office               str             (40092,)  \n",
      "2019-09-25 20:21:51,013 - INFO - .terms.terms                             party                str             (40092,)  \n",
      "2019-09-25 20:21:51,018 - INFO - .terms.terms                             party_affiliations   list            (40092,)  \n",
      "2019-09-25 20:21:51,023 - INFO - .terms.terms                             phone                str             (40092,)  \n",
      "2019-09-25 20:21:51,028 - INFO - .terms.terms                             rss_url              str             (40092,)  \n",
      "2019-09-25 20:21:51,080 - INFO - .terms.terms                             start                str             (40092,)  \n",
      "2019-09-25 20:21:51,136 - INFO - .terms.terms                             state                str             (40092,)  \n",
      "2019-09-25 20:21:51,142 - INFO - .terms.terms                             state_rank           str             (40092,)  \n",
      "2019-09-25 20:21:51,200 - INFO - .terms.terms                             type                 str             (40092,)  \n",
      "2019-09-25 20:21:51,207 - INFO - .terms.terms                             url                  str             (40092,)  \n",
      "2019-09-25 20:21:51,213 - INFO - .terms.terms                             url                  str             (40092,)  \n",
      "2019-09-25 20:21:51,272 - INFO - .terms.terms                             type                 str             (40092,)  \n",
      "2019-09-25 20:21:51,277 - INFO - .terms.terms                             state_rank           str             (40092,)  \n",
      "2019-09-25 20:21:51,340 - INFO - .terms.terms                             state                str             (40092,)  \n",
      "2019-09-25 20:21:51,396 - INFO - .terms.terms                             start                str             (40092,)  \n",
      "2019-09-25 20:21:51,401 - INFO - .terms.terms                             rss_url              str             (40092,)  \n",
      "2019-09-25 20:21:51,407 - INFO - .terms.terms                             phone                str             (40092,)  \n",
      "2019-09-25 20:21:51,412 - INFO - .terms.terms                             party_affiliations   list            (40092,)  \n",
      "2019-09-25 20:21:53,093 - INFO - <Trial #  type: <class 'float'> , len: 40112>\n",
      "2019-09-25 20:21:53,099 - INFO - .terms.terms.party_affiliations          party_affiliations   dict            (40112,)  \n",
      "2019-09-25 20:21:53,103 - INFO - .terms.terms.party_affiliations          party_affiliations   dict            (40112,)  \n",
      "2019-09-25 20:21:53,141 - INFO - .terms.terms.party_affiliations.party_affiliations end                  str             (40112,)  \n",
      "2019-09-25 20:21:53,147 - INFO - .terms.terms.party_affiliations.party_affiliations party                str             (40112,)  \n",
      "2019-09-25 20:21:53,153 - INFO - .terms.terms.party_affiliations.party_affiliations start                str             (40112,)  \n",
      "2019-09-25 20:21:53,159 - INFO - .terms.terms.party_affiliations.party_affiliations start                str             (40112,)  \n",
      "2019-09-25 20:21:53,163 - INFO - .terms.terms.party_affiliations.party_affiliations party                str             (40112,)  \n",
      "2019-09-25 20:21:53,170 - INFO - .terms.terms.party_affiliations.party_affiliations end                  str             (40112,)  \n",
      "2019-09-25 20:21:53,225 - INFO - .terms.terms                             party                str             (40092,)  \n",
      "2019-09-25 20:21:53,230 - INFO - .terms.terms                             office               str             (40092,)  \n",
      "2019-09-25 20:21:53,237 - INFO - .terms.terms                             fax                  str             (40092,)  \n",
      "2019-09-25 20:21:53,291 - INFO - .terms.terms                             end                  str             (40092,)  \n",
      "2019-09-25 20:21:53,314 - INFO - .terms.terms                             district             float           (40092,)  \n",
      "2019-09-25 20:21:53,320 - INFO - .terms.terms                             contact_form         str             (40092,)  \n",
      "2019-09-25 20:21:53,325 - INFO - .terms.terms                             class                float           (40092,)  \n",
      "2019-09-25 20:21:53,330 - INFO - .terms.terms                             address              str             (40092,)  \n"
     ]
    },
    {
     "data": {
      "text/plain": [
       "(68, 4)"
      ]
     },
     "execution_count": 5,
     "metadata": {},
     "output_type": "execute_result"
    }
   ],
   "source": [
    "df1 = pd.DataFrame(source)\n",
    "df1_in = norm.mapper(df1)\n",
    "df1_in.shape"
   ]
  },
  {
   "cell_type": "code",
   "execution_count": 6,
   "metadata": {},
   "outputs": [
    {
     "data": {
      "text/plain": [
       "(11807, 7)"
      ]
     },
     "execution_count": 6,
     "metadata": {},
     "output_type": "execute_result"
    }
   ],
   "source": [
    "df1.shape"
   ]
  },
  {
   "cell_type": "code",
   "execution_count": 50,
   "metadata": {},
   "outputs": [
    {
     "data": {
      "text/html": [
       "<div>\n",
       "<style scoped>\n",
       "    .dataframe tbody tr th:only-of-type {\n",
       "        vertical-align: middle;\n",
       "    }\n",
       "\n",
       "    .dataframe tbody tr th {\n",
       "        vertical-align: top;\n",
       "    }\n",
       "\n",
       "    .dataframe thead th {\n",
       "        text-align: right;\n",
       "    }\n",
       "</style>\n",
       "<table border=\"1\" class=\"dataframe\">\n",
       "  <thead>\n",
       "    <tr style=\"text-align: right;\">\n",
       "      <th></th>\n",
       "      <th>parent</th>\n",
       "      <th>child</th>\n",
       "      <th>type</th>\n",
       "      <th>obj</th>\n",
       "    </tr>\n",
       "  </thead>\n",
       "  <tbody>\n",
       "    <tr>\n",
       "      <th>63</th>\n",
       "      <td>.terms.terms</td>\n",
       "      <td>end</td>\n",
       "      <td>str</td>\n",
       "      <td>0        1793-03-03\n",
       "1        1791-03-03\n",
       "2     ...</td>\n",
       "    </tr>\n",
       "    <tr>\n",
       "      <th>64</th>\n",
       "      <td>.terms.terms</td>\n",
       "      <td>district</td>\n",
       "      <td>float</td>\n",
       "      <td>0         NaN\n",
       "1         9.0\n",
       "2         2.0\n",
       "3   ...</td>\n",
       "    </tr>\n",
       "    <tr>\n",
       "      <th>65</th>\n",
       "      <td>.terms.terms</td>\n",
       "      <td>contact_form</td>\n",
       "      <td>str</td>\n",
       "      <td>0                                             ...</td>\n",
       "    </tr>\n",
       "    <tr>\n",
       "      <th>66</th>\n",
       "      <td>.terms.terms</td>\n",
       "      <td>class</td>\n",
       "      <td>float</td>\n",
       "      <td>0        2.0\n",
       "1        NaN\n",
       "2        NaN\n",
       "3      ...</td>\n",
       "    </tr>\n",
       "    <tr>\n",
       "      <th>67</th>\n",
       "      <td>.terms.terms</td>\n",
       "      <td>address</td>\n",
       "      <td>str</td>\n",
       "      <td>0                                             ...</td>\n",
       "    </tr>\n",
       "  </tbody>\n",
       "</table>\n",
       "</div>"
      ],
      "text/plain": [
       "          parent         child   type  \\\n",
       "63  .terms.terms           end    str   \n",
       "64  .terms.terms      district  float   \n",
       "65  .terms.terms  contact_form    str   \n",
       "66  .terms.terms         class  float   \n",
       "67  .terms.terms       address    str   \n",
       "\n",
       "                                                  obj  \n",
       "63  0        1793-03-03\n",
       "1        1791-03-03\n",
       "2     ...  \n",
       "64  0         NaN\n",
       "1         9.0\n",
       "2         2.0\n",
       "3   ...  \n",
       "65  0                                             ...  \n",
       "66  0        2.0\n",
       "1        NaN\n",
       "2        NaN\n",
       "3      ...  \n",
       "67  0                                             ...  "
      ]
     },
     "execution_count": 50,
     "metadata": {},
     "output_type": "execute_result"
    }
   ],
   "source": [
    "df1_in.tail()"
   ]
  },
  {
   "cell_type": "code",
   "execution_count": 49,
   "metadata": {},
   "outputs": [
    {
     "name": "stderr",
     "output_type": "stream",
     "text": [
      "2019-09-25 20:37:29,586 - INFO - .bio                 before: (3, 4)  after: (11807, 3) obj.shape: (11807,) columns: religion, gender, birthday..\n",
      "2019-09-25 20:37:29,590 - INFO - .family.family       before: (2, 4)  after: (11812, 2) obj.shape: (11812,) columns: relation, name..\n",
      "2019-09-25 20:37:29,599 - INFO - .id                  before: (15, 4) after: (11807, 15) obj.shape: (11807,) columns: wikipedia, wikidata, washington_post, votesmart, t..\n",
      "2019-09-25 20:37:29,602 - INFO - .id.fec              before: (1, 4)  after: (11825, 1) obj.shape: (11825,) columns: fec..\n",
      "2019-09-25 20:37:29,606 - INFO - .id.bioguide_previous before: (1, 4)  after: (11807, 1) obj.shape: (11807,) columns: bioguide_previous..\n",
      "2019-09-25 20:37:29,611 - INFO - .leadership_roles.leadership_roles before: (4, 4)  after: (11810, 4) obj.shape: (11810,) columns: title, start, end, chamber..\n",
      "2019-09-25 20:37:29,620 - INFO - .name                before: (6, 4)  after: (11807, 6) obj.shape: (11807,) columns: suffix, official_full, nickname, middle, last, fir..\n",
      "2019-09-25 20:37:29,623 - INFO - .other_names.other_names before: (3, 4)  after: (11807, 3) obj.shape: (11807,) columns: middle, last, end..\n",
      "2019-09-25 20:37:29,660 - INFO - .terms.terms         before: (15, 4) after: (40092, 15) obj.shape: (40092,) columns: url, type, state_rank, state, start, rss_url, phon..\n",
      "2019-09-25 20:37:29,668 - INFO - .terms.terms.party_affiliations.party_affiliations before: (3, 4)  after: (40112, 3) obj.shape: (40112,) columns: start, party, end..\n"
     ]
    },
    {
     "data": {
      "text/plain": [
       "(262280, 54)"
      ]
     },
     "execution_count": 49,
     "metadata": {},
     "output_type": "execute_result"
    }
   ],
   "source": [
    "normalize(df1_in).shape"
   ]
  },
  {
   "cell_type": "markdown",
   "metadata": {},
   "source": [
    "#### Source 2"
   ]
  },
  {
   "cell_type": "code",
   "execution_count": 57,
   "metadata": {},
   "outputs": [
    {
     "name": "stderr",
     "output_type": "stream",
     "text": [
      "2019-09-25 20:38:36,727 - INFO - .                                        bio                  dict            (76,)     \n",
      "2019-09-25 20:38:36,734 - INFO - .bio                                     birthday             str             (76,)     \n",
      "2019-09-25 20:38:36,738 - INFO - .bio                                     gender               str             (76,)     \n",
      "2019-09-25 20:38:36,742 - INFO - .bio                                     religion             str             (76,)     \n",
      "2019-09-25 20:38:36,746 - INFO - .bio                                     religion             str             (76,)     \n",
      "2019-09-25 20:38:36,750 - INFO - .bio                                     gender               str             (76,)     \n",
      "2019-09-25 20:38:36,753 - INFO - .bio                                     birthday             str             (76,)     \n",
      "2019-09-25 20:38:36,756 - INFO - .                                        id                   dict            (76,)     \n",
      "2019-09-25 20:38:36,768 - INFO - .id                                      bioguide             str             (76,)     \n",
      "2019-09-25 20:38:36,770 - INFO - .id                                      fec                  list            (76,)     \n",
      "2019-09-25 20:38:36,773 - INFO - .id                                      govtrack             int             (76,)     \n",
      "2019-09-25 20:38:36,776 - INFO - .id                                      icpsr                float           (76,)     \n",
      "2019-09-25 20:38:36,778 - INFO - .id                                      icpsr_prez           float           (76,)     \n",
      "2019-09-25 20:38:36,781 - INFO - .id                                      lis                  str             (76,)     \n",
      "2019-09-25 20:38:36,783 - INFO - .id                                      opensecrets          str             (76,)     \n",
      "2019-09-25 20:38:36,786 - INFO - .id                                      thomas               str             (76,)     \n",
      "2019-09-25 20:38:36,790 - INFO - .id                                      votesmart            float           (76,)     \n",
      "2019-09-25 20:38:36,793 - INFO - .id                                      votesmart            float           (76,)     \n",
      "2019-09-25 20:38:36,796 - INFO - .id                                      thomas               str             (76,)     \n",
      "2019-09-25 20:38:36,798 - INFO - .id                                      opensecrets          str             (76,)     \n",
      "2019-09-25 20:38:36,801 - INFO - .id                                      lis                  str             (76,)     \n",
      "2019-09-25 20:38:36,804 - INFO - .id                                      icpsr_prez           float           (76,)     \n",
      "2019-09-25 20:38:36,807 - INFO - .id                                      icpsr                float           (76,)     \n",
      "2019-09-25 20:38:36,810 - INFO - .id                                      govtrack             int             (76,)     \n",
      "2019-09-25 20:38:36,812 - INFO - .id                                      fec                  list            (76,)     \n",
      "2019-09-25 20:38:36,821 - INFO - <Trial #  type: <class 'float'> , len: 76>\n",
      "2019-09-25 20:38:36,824 - INFO - .id.fec                                  fec                  str             (76,)     \n",
      "2019-09-25 20:38:36,826 - INFO - .id.fec                                  fec                  str             (76,)     \n",
      "2019-09-25 20:38:36,829 - INFO - .id                                      bioguide             str             (76,)     \n",
      "2019-09-25 20:38:36,832 - INFO - .                                        name                 dict            (76,)     \n",
      "2019-09-25 20:38:36,840 - INFO - .name                                    first                str             (76,)     \n",
      "2019-09-25 20:38:36,842 - INFO - .name                                    last                 str             (76,)     \n",
      "2019-09-25 20:38:36,845 - INFO - .name                                    middle               str             (76,)     \n",
      "2019-09-25 20:38:36,847 - INFO - .name                                    nickname             str             (76,)     \n",
      "2019-09-25 20:38:36,849 - INFO - .name                                    suffix               str             (76,)     \n",
      "2019-09-25 20:38:36,851 - INFO - .name                                    suffix               str             (76,)     \n",
      "2019-09-25 20:38:36,854 - INFO - .name                                    nickname             str             (76,)     \n",
      "2019-09-25 20:38:36,857 - INFO - .name                                    middle               str             (76,)     \n",
      "2019-09-25 20:38:36,859 - INFO - .name                                    last                 str             (76,)     \n",
      "2019-09-25 20:38:36,862 - INFO - .name                                    first                str             (76,)     \n",
      "2019-09-25 20:38:36,864 - INFO - .                                        terms                list            (76,)     \n",
      "2019-09-25 20:38:36,878 - INFO - <Trial #  type: <class 'dict'> , len: 125>\n",
      "2019-09-25 20:38:36,881 - INFO - .terms                                   terms                dict            (125,)    \n",
      "2019-09-25 20:38:36,886 - INFO - .terms                                   terms                dict            (125,)    \n",
      "2019-09-25 20:38:36,894 - INFO - .terms.terms                             end                  str             (125,)    \n",
      "2019-09-25 20:38:36,897 - INFO - .terms.terms                             how                  str             (125,)    \n",
      "2019-09-25 20:38:36,900 - INFO - .terms.terms                             party                str             (125,)    \n",
      "2019-09-25 20:38:36,903 - INFO - .terms.terms                             start                str             (125,)    \n",
      "2019-09-25 20:38:36,906 - INFO - .terms.terms                             type                 str             (125,)    \n",
      "2019-09-25 20:38:36,909 - INFO - .terms.terms                             type                 str             (125,)    \n",
      "2019-09-25 20:38:36,911 - INFO - .terms.terms                             start                str             (125,)    \n",
      "2019-09-25 20:38:36,914 - INFO - .terms.terms                             party                str             (125,)    \n",
      "2019-09-25 20:38:36,916 - INFO - .terms.terms                             how                  str             (125,)    \n",
      "2019-09-25 20:38:36,919 - INFO - .terms.terms                             end                  str             (125,)    \n"
     ]
    },
    {
     "data": {
      "text/plain": [
       "(28, 4)"
      ]
     },
     "execution_count": 57,
     "metadata": {},
     "output_type": "execute_result"
    }
   ],
   "source": [
    "df2 = pd.DataFrame(source2)\n",
    "df2_in = norm.mapper(df2)\n",
    "df2_in.shape"
   ]
  },
  {
   "cell_type": "code",
   "execution_count": 58,
   "metadata": {},
   "outputs": [
    {
     "data": {
      "text/plain": [
       "(76, 4)"
      ]
     },
     "execution_count": 58,
     "metadata": {},
     "output_type": "execute_result"
    }
   ],
   "source": [
    "df2.shape"
   ]
  },
  {
   "cell_type": "code",
   "execution_count": 59,
   "metadata": {},
   "outputs": [
    {
     "data": {
      "text/html": [
       "<div>\n",
       "<style scoped>\n",
       "    .dataframe tbody tr th:only-of-type {\n",
       "        vertical-align: middle;\n",
       "    }\n",
       "\n",
       "    .dataframe tbody tr th {\n",
       "        vertical-align: top;\n",
       "    }\n",
       "\n",
       "    .dataframe thead th {\n",
       "        text-align: right;\n",
       "    }\n",
       "</style>\n",
       "<table border=\"1\" class=\"dataframe\">\n",
       "  <thead>\n",
       "    <tr style=\"text-align: right;\">\n",
       "      <th></th>\n",
       "      <th>parent</th>\n",
       "      <th>child</th>\n",
       "      <th>type</th>\n",
       "      <th>obj</th>\n",
       "    </tr>\n",
       "  </thead>\n",
       "  <tbody>\n",
       "    <tr>\n",
       "      <th>0</th>\n",
       "      <td>.</td>\n",
       "      <td>bio</td>\n",
       "      <td>dict</td>\n",
       "      <td>0             {'birthday': '1732-02-22', 'gend...</td>\n",
       "    </tr>\n",
       "    <tr>\n",
       "      <th>1</th>\n",
       "      <td>.bio</td>\n",
       "      <td>religion</td>\n",
       "      <td>str</td>\n",
       "      <td>0                NaN\n",
       "1                NaN\n",
       "2   ...</td>\n",
       "    </tr>\n",
       "    <tr>\n",
       "      <th>2</th>\n",
       "      <td>.bio</td>\n",
       "      <td>gender</td>\n",
       "      <td>str</td>\n",
       "      <td>0       M\n",
       "1       M\n",
       "2       M\n",
       "3       M\n",
       "4     ...</td>\n",
       "    </tr>\n",
       "    <tr>\n",
       "      <th>3</th>\n",
       "      <td>.bio</td>\n",
       "      <td>birthday</td>\n",
       "      <td>str</td>\n",
       "      <td>0     1732-02-22\n",
       "1     1735-10-19\n",
       "2     1743-0...</td>\n",
       "    </tr>\n",
       "    <tr>\n",
       "      <th>4</th>\n",
       "      <td>.</td>\n",
       "      <td>id</td>\n",
       "      <td>dict</td>\n",
       "      <td>0     {'bioguide': 'W000178', 'govtrack': 4113...</td>\n",
       "    </tr>\n",
       "  </tbody>\n",
       "</table>\n",
       "</div>"
      ],
      "text/plain": [
       "  parent     child  type                                                obj\n",
       "0      .       bio  dict  0             {'birthday': '1732-02-22', 'gend...\n",
       "1   .bio  religion   str  0                NaN\n",
       "1                NaN\n",
       "2   ...\n",
       "2   .bio    gender   str  0       M\n",
       "1       M\n",
       "2       M\n",
       "3       M\n",
       "4     ...\n",
       "3   .bio  birthday   str  0     1732-02-22\n",
       "1     1735-10-19\n",
       "2     1743-0...\n",
       "4      .        id  dict  0     {'bioguide': 'W000178', 'govtrack': 4113..."
      ]
     },
     "execution_count": 59,
     "metadata": {},
     "output_type": "execute_result"
    }
   ],
   "source": [
    "df2_in.head()"
   ]
  },
  {
   "cell_type": "code",
   "execution_count": 60,
   "metadata": {},
   "outputs": [
    {
     "name": "stderr",
     "output_type": "stream",
     "text": [
      "2019-09-25 20:38:37,774 - INFO - .bio                 before: (3, 4)  after: (76, 3) obj.shape: (76,)   columns: religion, gender, birthday..\n",
      "2019-09-25 20:38:37,777 - INFO - .id                  before: (8, 4)  after: (76, 8) obj.shape: (76,)   columns: votesmart, thomas, opensecrets, lis, icpsr_prez, i..\n",
      "2019-09-25 20:38:37,779 - INFO - .id.fec              before: (1, 4)  after: (76, 1) obj.shape: (76,)   columns: fec..\n",
      "2019-09-25 20:38:37,782 - INFO - .name                before: (5, 4)  after: (76, 5) obj.shape: (76,)   columns: suffix, nickname, middle, last, first..\n",
      "2019-09-25 20:38:37,786 - INFO - .terms.terms         before: (5, 4)  after: (125, 5) obj.shape: (125,)  columns: type, start, party, how, end..\n"
     ]
    },
    {
     "data": {
      "text/plain": [
       "(125, 23)"
      ]
     },
     "execution_count": 60,
     "metadata": {},
     "output_type": "execute_result"
    }
   ],
   "source": [
    "norm.normalize(df2_in).shape"
   ]
  },
  {
   "cell_type": "markdown",
   "metadata": {},
   "source": [
    "#### Source 3"
   ]
  },
  {
   "cell_type": "code",
   "execution_count": 53,
   "metadata": {},
   "outputs": [
    {
     "name": "stderr",
     "output_type": "stream",
     "text": [
      "2019-09-25 20:38:26,698 - INFO - .                                        address              str             (48,)     \n",
      "2019-09-25 20:38:26,701 - INFO - .                                        house_committee_id   str             (48,)     \n",
      "2019-09-25 20:38:26,703 - INFO - .                                        jurisdiction         str             (48,)     \n",
      "2019-09-25 20:38:26,705 - INFO - .                                        jurisdiction_source  str             (48,)     \n",
      "2019-09-25 20:38:26,709 - INFO - .                                        minority_rss_url     str             (48,)     \n",
      "2019-09-25 20:38:26,713 - INFO - .                                        minority_url         str             (48,)     \n",
      "2019-09-25 20:38:26,716 - INFO - .                                        name                 str             (48,)     \n",
      "2019-09-25 20:38:26,720 - INFO - .                                        phone                str             (48,)     \n",
      "2019-09-25 20:38:26,724 - INFO - .                                        rss_url              str             (48,)     \n",
      "2019-09-25 20:38:26,728 - INFO - .                                        senate_committee_id  str             (48,)     \n",
      "2019-09-25 20:38:26,732 - INFO - .                                        subcommittees        list            (48,)     \n",
      "2019-09-25 20:38:26,744 - INFO - <Trial #  type: <class 'dict'> , len: 198>\n",
      "2019-09-25 20:38:26,747 - INFO - .subcommittees                           subcommittees        dict            (198,)    \n",
      "2019-09-25 20:38:26,749 - INFO - .subcommittees                           subcommittees        dict            (198,)    \n",
      "2019-09-25 20:38:26,760 - INFO - .subcommittees.subcommittees             address              str             (198,)    \n",
      "2019-09-25 20:38:26,763 - INFO - .subcommittees.subcommittees             name                 str             (198,)    \n",
      "2019-09-25 20:38:26,767 - INFO - .subcommittees.subcommittees             phone                str             (198,)    \n",
      "2019-09-25 20:38:26,770 - INFO - .subcommittees.subcommittees             thomas_id            str             (198,)    \n",
      "2019-09-25 20:38:26,773 - INFO - .subcommittees.subcommittees             wikipedia            str             (198,)    \n",
      "2019-09-25 20:38:26,777 - INFO - .subcommittees.subcommittees             wikipedia            str             (198,)    \n",
      "2019-09-25 20:38:26,780 - INFO - .subcommittees.subcommittees             thomas_id            str             (198,)    \n",
      "2019-09-25 20:38:26,783 - INFO - .subcommittees.subcommittees             phone                str             (198,)    \n",
      "2019-09-25 20:38:26,786 - INFO - .subcommittees.subcommittees             name                 str             (198,)    \n",
      "2019-09-25 20:38:26,790 - INFO - .subcommittees.subcommittees             address              str             (198,)    \n",
      "2019-09-25 20:38:26,793 - INFO - .                                        thomas_id            str             (48,)     \n",
      "2019-09-25 20:38:26,795 - INFO - .                                        type                 str             (48,)     \n",
      "2019-09-25 20:38:26,799 - INFO - .                                        url                  str             (48,)     \n",
      "2019-09-25 20:38:26,801 - INFO - .                                        wikipedia            str             (48,)     \n"
     ]
    },
    {
     "data": {
      "text/plain": [
       "(21, 4)"
      ]
     },
     "execution_count": 53,
     "metadata": {},
     "output_type": "execute_result"
    }
   ],
   "source": [
    "df3 = pd.DataFrame(source3)\n",
    "df3_in = norm.mapper(df3)\n",
    "df3_in.shape"
   ]
  },
  {
   "cell_type": "code",
   "execution_count": 54,
   "metadata": {},
   "outputs": [
    {
     "data": {
      "text/plain": [
       "(48, 15)"
      ]
     },
     "execution_count": 54,
     "metadata": {},
     "output_type": "execute_result"
    }
   ],
   "source": [
    "df3.shape"
   ]
  },
  {
   "cell_type": "code",
   "execution_count": 55,
   "metadata": {},
   "outputs": [
    {
     "data": {
      "text/html": [
       "<div>\n",
       "<style scoped>\n",
       "    .dataframe tbody tr th:only-of-type {\n",
       "        vertical-align: middle;\n",
       "    }\n",
       "\n",
       "    .dataframe tbody tr th {\n",
       "        vertical-align: top;\n",
       "    }\n",
       "\n",
       "    .dataframe thead th {\n",
       "        text-align: right;\n",
       "    }\n",
       "</style>\n",
       "<table border=\"1\" class=\"dataframe\">\n",
       "  <thead>\n",
       "    <tr style=\"text-align: right;\">\n",
       "      <th></th>\n",
       "      <th>parent</th>\n",
       "      <th>child</th>\n",
       "      <th>type</th>\n",
       "      <th>obj</th>\n",
       "    </tr>\n",
       "  </thead>\n",
       "  <tbody>\n",
       "    <tr>\n",
       "      <th>0</th>\n",
       "      <td>.</td>\n",
       "      <td>address</td>\n",
       "      <td>str</td>\n",
       "      <td>0          1301 LHOB; Washington, DC 20515-600...</td>\n",
       "    </tr>\n",
       "    <tr>\n",
       "      <th>1</th>\n",
       "      <td>.</td>\n",
       "      <td>house_committee_id</td>\n",
       "      <td>str</td>\n",
       "      <td>0      AG\n",
       "1      AP\n",
       "2      AS\n",
       "3      BA\n",
       "4     ...</td>\n",
       "    </tr>\n",
       "    <tr>\n",
       "      <th>2</th>\n",
       "      <td>.</td>\n",
       "      <td>jurisdiction</td>\n",
       "      <td>str</td>\n",
       "      <td>0     The House Committee on Agriculture has j...</td>\n",
       "    </tr>\n",
       "    <tr>\n",
       "      <th>3</th>\n",
       "      <td>.</td>\n",
       "      <td>jurisdiction_source</td>\n",
       "      <td>str</td>\n",
       "      <td>0     http://en.wikipedia.org/wiki/House_Commi...</td>\n",
       "    </tr>\n",
       "    <tr>\n",
       "      <th>4</th>\n",
       "      <td>.</td>\n",
       "      <td>minority_rss_url</td>\n",
       "      <td>str</td>\n",
       "      <td>0     http://democrats.agriculture.house.gov/R...</td>\n",
       "    </tr>\n",
       "  </tbody>\n",
       "</table>\n",
       "</div>"
      ],
      "text/plain": [
       "  parent                child type  \\\n",
       "0      .              address  str   \n",
       "1      .   house_committee_id  str   \n",
       "2      .         jurisdiction  str   \n",
       "3      .  jurisdiction_source  str   \n",
       "4      .     minority_rss_url  str   \n",
       "\n",
       "                                                 obj  \n",
       "0  0          1301 LHOB; Washington, DC 20515-600...  \n",
       "1  0      AG\n",
       "1      AP\n",
       "2      AS\n",
       "3      BA\n",
       "4     ...  \n",
       "2  0     The House Committee on Agriculture has j...  \n",
       "3  0     http://en.wikipedia.org/wiki/House_Commi...  \n",
       "4  0     http://democrats.agriculture.house.gov/R...  "
      ]
     },
     "execution_count": 55,
     "metadata": {},
     "output_type": "execute_result"
    }
   ],
   "source": [
    "df3_in.head()"
   ]
  },
  {
   "cell_type": "code",
   "execution_count": 56,
   "metadata": {},
   "outputs": [
    {
     "name": "stderr",
     "output_type": "stream",
     "text": [
      "2019-09-25 20:38:28,134 - INFO - .                    before: (14, 4) after: (48, 14) obj.shape: (48,)   columns: address, house_committee_id, jurisdiction, jurisdi..\n",
      "2019-09-25 20:38:28,137 - INFO - .subcommittees.subcommittees before: (5, 4)  after: (198, 5) obj.shape: (198,)  columns: wikipedia, thomas_id, phone, name, address..\n"
     ]
    },
    {
     "data": {
      "text/plain": [
       "(198, 20)"
      ]
     },
     "execution_count": 56,
     "metadata": {},
     "output_type": "execute_result"
    }
   ],
   "source": [
    "normalize(df3_in).shape"
   ]
  },
  {
   "cell_type": "code",
   "execution_count": null,
   "metadata": {},
   "outputs": [],
   "source": []
  }
 ],
 "metadata": {
  "kernelspec": {
   "display_name": "Python 3",
   "language": "python",
   "name": "python3"
  },
  "language_info": {
   "codemirror_mode": {
    "name": "ipython",
    "version": 3
   },
   "file_extension": ".py",
   "mimetype": "text/x-python",
   "name": "python",
   "nbconvert_exporter": "python",
   "pygments_lexer": "ipython3",
   "version": "3.7.1"
  }
 },
 "nbformat": 4,
 "nbformat_minor": 2
}
