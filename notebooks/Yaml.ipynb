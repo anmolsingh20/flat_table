{
 "cells": [
  {
   "cell_type": "code",
   "execution_count": 1,
   "metadata": {},
   "outputs": [],
   "source": [
    "import os\n",
    "import sys\n",
    "currentdir = os.path.dirname(os.path.realpath('__file__'))\n",
    "parentdir = os.path.dirname(currentdir)\n",
    "sys.path.append(parentdir)"
   ]
  },
  {
   "cell_type": "code",
   "execution_count": 2,
   "metadata": {},
   "outputs": [],
   "source": [
    "from norm import *\n",
    "import requests"
   ]
  },
  {
   "cell_type": "code",
   "execution_count": 2,
   "metadata": {
    "scrolled": true
   },
   "outputs": [],
   "source": [
    "content = requests.get('https://raw.githubusercontent.com/108michael/congress-legislators/master/legislators-historical.yaml').content\n",
    "source = yaml.load(content)"
   ]
  },
  {
   "cell_type": "code",
   "execution_count": 185,
   "metadata": {},
   "outputs": [
    {
     "data": {
      "text/html": [
       "<div>\n",
       "<style scoped>\n",
       "    .dataframe tbody tr th:only-of-type {\n",
       "        vertical-align: middle;\n",
       "    }\n",
       "\n",
       "    .dataframe tbody tr th {\n",
       "        vertical-align: top;\n",
       "    }\n",
       "\n",
       "    .dataframe thead th {\n",
       "        text-align: right;\n",
       "    }\n",
       "</style>\n",
       "<table border=\"1\" class=\"dataframe\">\n",
       "  <thead>\n",
       "    <tr style=\"text-align: right;\">\n",
       "      <th></th>\n",
       "      <th>bio</th>\n",
       "      <th>family</th>\n",
       "      <th>id</th>\n",
       "      <th>leadership_roles</th>\n",
       "      <th>name</th>\n",
       "      <th>other_names</th>\n",
       "      <th>terms</th>\n",
       "      <th>index</th>\n",
       "    </tr>\n",
       "  </thead>\n",
       "  <tbody>\n",
       "    <tr>\n",
       "      <th>11737</th>\n",
       "      <td>{'birthday': '1962-03-30', 'gender': 'M', 'ind...</td>\n",
       "      <td>[{'name': 'Nicholas J. Begich', 'relation': 's...</td>\n",
       "      <td>{'bioguide': 'B001265', 'thomas': '01898', 'li...</td>\n",
       "      <td>NaN</td>\n",
       "      <td>{'first': 'Mark', 'last': 'Begich', 'official_...</td>\n",
       "      <td>NaN</td>\n",
       "      <td>[{'type': 'sen', 'start': '2009-01-06', 'end':...</td>\n",
       "      <td>11737</td>\n",
       "    </tr>\n",
       "    <tr>\n",
       "      <th>11739</th>\n",
       "      <td>{'birthday': '1953-05-26', 'gender': 'F', 'ind...</td>\n",
       "      <td>[{'name': 'Lawton M. Chiles Jr.', 'relation': ...</td>\n",
       "      <td>{'bioguide': 'H001049', 'thomas': '01902', 'li...</td>\n",
       "      <td>NaN</td>\n",
       "      <td>{'first': 'Kay', 'last': 'Hagan', 'official_fu...</td>\n",
       "      <td>NaN</td>\n",
       "      <td>[{'type': 'sen', 'start': '2009-01-06', 'end':...</td>\n",
       "      <td>11739</td>\n",
       "    </tr>\n",
       "    <tr>\n",
       "      <th>11743</th>\n",
       "      <td>{'birthday': '1934-06-28', 'gender': 'M', 'rel...</td>\n",
       "      <td>[{'name': 'Sander Martin Levin', 'relation': '...</td>\n",
       "      <td>{'bioguide': 'L000261', 'thomas': '01384', 'li...</td>\n",
       "      <td>NaN</td>\n",
       "      <td>{'first': 'Carl', 'last': 'Levin', 'official_f...</td>\n",
       "      <td>NaN</td>\n",
       "      <td>[{'type': 'sen', 'start': '1979-01-15', 'end':...</td>\n",
       "      <td>11743</td>\n",
       "    </tr>\n",
       "    <tr>\n",
       "      <th>11744</th>\n",
       "      <td>{'birthday': '1963-01-10', 'gender': 'M', 'rel...</td>\n",
       "      <td>[{'name': 'David H. Pryor', 'relation': 'son',...</td>\n",
       "      <td>{'bioguide': 'P000590', 'thomas': '01701', 'li...</td>\n",
       "      <td>NaN</td>\n",
       "      <td>{'first': 'Mark', 'last': 'Pryor', 'official_f...</td>\n",
       "      <td>NaN</td>\n",
       "      <td>[{'type': 'sen', 'start': '2003-01-07', 'end':...</td>\n",
       "      <td>11744</td>\n",
       "    </tr>\n",
       "    <tr>\n",
       "      <th>11745</th>\n",
       "      <td>{'birthday': '1937-06-18', 'gender': 'M', 'rel...</td>\n",
       "      <td>[{'name': 'Nelson Aldrich Rockefeller', 'relat...</td>\n",
       "      <td>{'bioguide': 'R000361', 'thomas': '01424', 'li...</td>\n",
       "      <td>NaN</td>\n",
       "      <td>{'first': 'John', 'middle': 'D.', 'last': 'Roc...</td>\n",
       "      <td>NaN</td>\n",
       "      <td>[{'type': 'sen', 'start': '1985-01-03', 'end':...</td>\n",
       "      <td>11745</td>\n",
       "    </tr>\n",
       "  </tbody>\n",
       "</table>\n",
       "</div>"
      ],
      "text/plain": [
       "                                                     bio  \\\n",
       "11737  {'birthday': '1962-03-30', 'gender': 'M', 'ind...   \n",
       "11739  {'birthday': '1953-05-26', 'gender': 'F', 'ind...   \n",
       "11743  {'birthday': '1934-06-28', 'gender': 'M', 'rel...   \n",
       "11744  {'birthday': '1963-01-10', 'gender': 'M', 'rel...   \n",
       "11745  {'birthday': '1937-06-18', 'gender': 'M', 'rel...   \n",
       "\n",
       "                                                  family  \\\n",
       "11737  [{'name': 'Nicholas J. Begich', 'relation': 's...   \n",
       "11739  [{'name': 'Lawton M. Chiles Jr.', 'relation': ...   \n",
       "11743  [{'name': 'Sander Martin Levin', 'relation': '...   \n",
       "11744  [{'name': 'David H. Pryor', 'relation': 'son',...   \n",
       "11745  [{'name': 'Nelson Aldrich Rockefeller', 'relat...   \n",
       "\n",
       "                                                      id leadership_roles  \\\n",
       "11737  {'bioguide': 'B001265', 'thomas': '01898', 'li...              NaN   \n",
       "11739  {'bioguide': 'H001049', 'thomas': '01902', 'li...              NaN   \n",
       "11743  {'bioguide': 'L000261', 'thomas': '01384', 'li...              NaN   \n",
       "11744  {'bioguide': 'P000590', 'thomas': '01701', 'li...              NaN   \n",
       "11745  {'bioguide': 'R000361', 'thomas': '01424', 'li...              NaN   \n",
       "\n",
       "                                                    name other_names  \\\n",
       "11737  {'first': 'Mark', 'last': 'Begich', 'official_...         NaN   \n",
       "11739  {'first': 'Kay', 'last': 'Hagan', 'official_fu...         NaN   \n",
       "11743  {'first': 'Carl', 'last': 'Levin', 'official_f...         NaN   \n",
       "11744  {'first': 'Mark', 'last': 'Pryor', 'official_f...         NaN   \n",
       "11745  {'first': 'John', 'middle': 'D.', 'last': 'Roc...         NaN   \n",
       "\n",
       "                                                   terms  index  \n",
       "11737  [{'type': 'sen', 'start': '2009-01-06', 'end':...  11737  \n",
       "11739  [{'type': 'sen', 'start': '2009-01-06', 'end':...  11739  \n",
       "11743  [{'type': 'sen', 'start': '1979-01-15', 'end':...  11743  \n",
       "11744  [{'type': 'sen', 'start': '2003-01-07', 'end':...  11744  \n",
       "11745  [{'type': 'sen', 'start': '1985-01-03', 'end':...  11745  "
      ]
     },
     "execution_count": 185,
     "metadata": {},
     "output_type": "execute_result"
    }
   ],
   "source": [
    "df = pd.DataFrame(source)\n",
    "df['index'] = df.index\n",
    "df_family = df[~df.family.isna()]\n",
    "df_family.head()"
   ]
  },
  {
   "cell_type": "code",
   "execution_count": null,
   "metadata": {},
   "outputs": [],
   "source": []
  }
 ],
 "metadata": {
  "kernelspec": {
   "display_name": "Python 3",
   "language": "python",
   "name": "python3"
  },
  "language_info": {
   "codemirror_mode": {
    "name": "ipython",
    "version": 3
   },
   "file_extension": ".py",
   "mimetype": "text/x-python",
   "name": "python",
   "nbconvert_exporter": "python",
   "pygments_lexer": "ipython3",
   "version": "3.7.1"
  }
 },
 "nbformat": 4,
 "nbformat_minor": 2
}
