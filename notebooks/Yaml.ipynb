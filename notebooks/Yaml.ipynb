{
 "cells": [
  {
   "cell_type": "code",
   "execution_count": null,
   "metadata": {},
   "outputs": [],
   "source": [
    "import os\n",
    "import sys\n",
    "currentdir = os.path.dirname(os.path.realpath('__file__'))\n",
    "parentdir = os.path.dirname(currentdir)\n",
    "sys.path.append(parentdir)\n",
    "print(currentdir, parentdir)"
   ]
  },
  {
   "cell_type": "code",
   "execution_count": null,
   "metadata": {},
   "outputs": [],
   "source": [
    "import yaml\n",
    "import requests\n",
    "from norm import *"
   ]
  },
  {
   "cell_type": "code",
   "execution_count": null,
   "metadata": {
    "scrolled": true
   },
   "outputs": [],
   "source": [
    "content = requests.get('https://raw.githubusercontent.com/108michael/congress-legislators/master/legislators-historical.yaml').content\n",
    "source = yaml.load(content)"
   ]
  },
  {
   "cell_type": "code",
   "execution_count": null,
   "metadata": {
    "scrolled": true
   },
   "outputs": [],
   "source": [
    "df = pd.DataFrame(source)\n",
    "\n",
    "# test columns\n",
    "df['dict'] = [{'a': 1}] * len(df)\n",
    "df['list_obj'] = [['a'] * 2] * len(df)\n",
    "df['list_dict'] = [[{'a':10, 'b': 'hello'}] * 2] * len(df)\n",
    "df['list_list'] = [[[10]] * 2] * len(df)\n",
    "df['list_list_list_dict'] = [[[[{'a':10}],]] * 2] * len(df)\n",
    "\n",
    "# sample group\n",
    "df_family = df[~df.family.isna()]\n",
    "df_family.head()"
   ]
  },
  {
   "cell_type": "code",
   "execution_count": null,
   "metadata": {},
   "outputs": [],
   "source": [
    "def normalize3(dataframe):\n",
    "    __table_info__ = []\n",
    "    result = []\n",
    "    # get all series\n",
    "    series_list = list(dataframe.iteritems())\n",
    "    print(f'series_list length:: current: {len(series_list)}')\n",
    "    \n",
    "    # iterate through each column/ series\n",
    "    for name, seri in series_list:\n",
    "        # type of the object of series' values\n",
    "        inside = seri.apply(lambda x: type(x)).iloc[0]\n",
    "        \n",
    "        # case if it is list -- expand rowwise\n",
    "        if inside == list:\n",
    "            print('normalizing:: ', name, inside)\n",
    "            temp = get_column_list(seri)\n",
    "            temp = reset_index(temp)\n",
    "            series_list.extend(list(temp.iteritems()))\n",
    "        \n",
    "        # case if it is dict -- expand columnwise\n",
    "        elif inside == dict:\n",
    "            print('normalizing:: ', name, inside)\n",
    "            temp = get_column_dict(seri)\n",
    "            series_list.extend(list(temp.iteritems()))\n",
    "        \n",
    "        # case of all others\n",
    "        else:\n",
    "            temp = get_column_obj(seri)\n",
    "            # __table_info__.append((temp.?, len(temp), ))\n",
    "            result.append(temp)\n",
    "    print('exports :: ', len(result))\n",
    "    return result, pd.DataFrame(__table_info__)"
   ]
  },
  {
   "cell_type": "code",
   "execution_count": null,
   "metadata": {
    "scrolled": false
   },
   "outputs": [],
   "source": [
    "final, table_info = normalize3(df_family.iloc[:4])"
   ]
  },
  {
   "cell_type": "code",
   "execution_count": null,
   "metadata": {},
   "outputs": [],
   "source": [
    "final[4]"
   ]
  },
  {
   "cell_type": "code",
   "execution_count": null,
   "metadata": {},
   "outputs": [],
   "source": [
    "df_family.family.apply(lambda x: len(x)).sum()"
   ]
  },
  {
   "cell_type": "code",
   "execution_count": null,
   "metadata": {},
   "outputs": [],
   "source": [
    "df_family.name.iloc[0]"
   ]
  },
  {
   "cell_type": "code",
   "execution_count": null,
   "metadata": {},
   "outputs": [],
   "source": [
    "get_list_obj(df_family.terms).head()"
   ]
  },
  {
   "cell_type": "code",
   "execution_count": null,
   "metadata": {},
   "outputs": [],
   "source": [
    "df_family.terms.iloc[0]"
   ]
  },
  {
   "cell_type": "code",
   "execution_count": null,
   "metadata": {},
   "outputs": [],
   "source": [
    "def get_list_dict(series):\n",
    "    \"\"\" returns dataframe of dict object expanded to rows and columns \"\"\" \n",
    "    ds = series.copy()\n",
    "\n",
    "    # add index to dict keys\n",
    "    for ind, rows in ds.iteritems():\n",
    "        for item in rows:\n",
    "            item.update({'index': ind})\n",
    "    \n",
    "    # normalize ds\n",
    "    data = ds.apply(lambda x: pd.io.json.json_normalize(x)).values\n",
    "    df = pd.concat(data, sort=True)\n",
    "    \n",
    "    return set_index(df)"
   ]
  },
  {
   "cell_type": "code",
   "execution_count": null,
   "metadata": {},
   "outputs": [],
   "source": [
    "get_list_obj(df_family.family).iloc[0]"
   ]
  },
  {
   "cell_type": "code",
   "execution_count": null,
   "metadata": {},
   "outputs": [],
   "source": [
    "def get_column_list(series):\n",
    "    \"\"\" returns dataframe  \"\"\"\n",
    "    inside = series.apply(lambda x: type(x)).iloc[0]\n",
    "    print(series.name, inside)\n",
    "    print(series.iloc[0])\n",
    "    \n",
    "    if inside == list:\n",
    "        return get_column_list(get_list_obj(series))\n",
    "    # elif inside == dict:\n",
    "    #    return get_list_dict(series)\n",
    "    else:\n",
    "        return series\n",
    "get_column_list(df_family.terms)#.iloc[0]"
   ]
  },
  {
   "cell_type": "code",
   "execution_count": null,
   "metadata": {},
   "outputs": [],
   "source": [
    "get_list_obj(get_column_dict(df_family.id).fec)"
   ]
  },
  {
   "cell_type": "code",
   "execution_count": null,
   "metadata": {},
   "outputs": [],
   "source": [
    "get_list_obj(get_column_dict(df_family.id).fec)"
   ]
  },
  {
   "cell_type": "code",
   "execution_count": null,
   "metadata": {},
   "outputs": [],
   "source": [
    "#len([print(i, v.columns.values) for i, v in enumerate(final)])\n",
    "final[8]['index']\n",
    "#final[2]['index']\n",
    "print([len(i) for i in final])"
   ]
  },
  {
   "cell_type": "code",
   "execution_count": null,
   "metadata": {
    "scrolled": true
   },
   "outputs": [],
   "source": [
    "reduce(lambda x, y: (pd.merge(x, y)), final[0:28])"
   ]
  },
  {
   "cell_type": "code",
   "execution_count": null,
   "metadata": {},
   "outputs": [],
   "source": [
    "reduce(lambda x, y: (pd.merge(x, y)), final[0:29])['index'].value_counts()"
   ]
  },
  {
   "cell_type": "code",
   "execution_count": null,
   "metadata": {},
   "outputs": [],
   "source": [
    "final[23]"
   ]
  },
  {
   "cell_type": "code",
   "execution_count": null,
   "metadata": {},
   "outputs": [],
   "source": [
    "reduce(lambda x, y: (pd.merge(x, y, how='inner')), final[25:32])"
   ]
  },
  {
   "cell_type": "code",
   "execution_count": null,
   "metadata": {},
   "outputs": [],
   "source": [
    "pd.merge(final[0], final[0])"
   ]
  },
  {
   "cell_type": "code",
   "execution_count": null,
   "metadata": {},
   "outputs": [],
   "source": []
  }
 ],
 "metadata": {
  "kernelspec": {
   "display_name": "Python 3",
   "language": "python",
   "name": "python3"
  },
  "language_info": {
   "codemirror_mode": {
    "name": "ipython",
    "version": 3
   },
   "file_extension": ".py",
   "mimetype": "text/x-python",
   "name": "python",
   "nbconvert_exporter": "python",
   "pygments_lexer": "ipython3",
   "version": "3.7.1"
  }
 },
 "nbformat": 4,
 "nbformat_minor": 2
}
