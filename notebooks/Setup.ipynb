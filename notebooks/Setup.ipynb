{
 "cells": [
  {
   "cell_type": "markdown",
   "metadata": {},
   "source": [
    "### Environment Checks"
   ]
  },
  {
   "cell_type": "code",
   "execution_count": 41,
   "metadata": {},
   "outputs": [
    {
     "name": "stdout",
     "output_type": "stream",
     "text": [
      "# conda environments:\n",
      "#\n",
      "base                     /Applications/anaconda3\n",
      "cloudenv                 /Applications/anaconda3/envs/cloudenv\n",
      "normenv               *  /Applications/anaconda3/envs/normenv\n",
      "redashenv                /Applications/anaconda3/envs/redashenv\n",
      "text                     /Applications/anaconda3/envs/text\n",
      "\n"
     ]
    }
   ],
   "source": [
    "! conda info --envs"
   ]
  },
  {
   "cell_type": "code",
   "execution_count": 42,
   "metadata": {},
   "outputs": [
    {
     "name": "stdout",
     "output_type": "stream",
     "text": [
      "\u001b[01;34m/Applications/anaconda3/envs/normenv/lib/python3.7/site-packages/flat_table\u001b[00m\n",
      "├── __init__.py\n",
      "├── \u001b[01;34m__pycache__\u001b[00m\n",
      "└── _norm.py\n",
      "\u001b[01;34m/Applications/anaconda3/envs/normenv/lib/python3.7/site-packages/flat_table-1.0.0.dist-info\u001b[00m\n",
      "├── INSTALLER\n",
      "├── METADATA\n",
      "├── RECORD\n",
      "├── WHEEL\n",
      "└── top_level.txt\n",
      "\n",
      "1 directory, 7 files\n"
     ]
    }
   ],
   "source": [
    "! tree -L 1 /Applications/anaconda3/envs/normenv/lib/python3.7/site-packages/flat*"
   ]
  },
  {
   "cell_type": "markdown",
   "metadata": {},
   "source": [
    "### Imports"
   ]
  },
  {
   "cell_type": "code",
   "execution_count": 44,
   "metadata": {},
   "outputs": [],
   "source": [
    "import yaml\n",
    "import pandas as pd\n",
    "import flat_table"
   ]
  },
  {
   "cell_type": "code",
   "execution_count": 45,
   "metadata": {},
   "outputs": [
    {
     "data": {
      "text/plain": [
       "'/Applications/anaconda3/envs/normenv/lib/python3.7/site-packages/pandas/__init__.py'"
      ]
     },
     "execution_count": 45,
     "metadata": {},
     "output_type": "execute_result"
    }
   ],
   "source": [
    "pd.__file__"
   ]
  },
  {
   "cell_type": "code",
   "execution_count": 46,
   "metadata": {},
   "outputs": [
    {
     "data": {
      "text/plain": [
       "'/Applications/anaconda3/envs/normenv/lib/python3.7/site-packages/flat_table/__init__.py'"
      ]
     },
     "execution_count": 46,
     "metadata": {},
     "output_type": "execute_result"
    }
   ],
   "source": [
    "flat_table.__file__"
   ]
  },
  {
   "cell_type": "markdown",
   "metadata": {},
   "source": [
    "### Example"
   ]
  },
  {
   "cell_type": "code",
   "execution_count": 51,
   "metadata": {},
   "outputs": [
    {
     "data": {
      "text/plain": [
       "(76, 4)"
      ]
     },
     "execution_count": 51,
     "metadata": {},
     "output_type": "execute_result"
    }
   ],
   "source": [
    "source = yaml.load(open('../data/executive.yaml').read(), Loader=yaml.Loader)\n",
    "df = pd.DataFrame(source)\n",
    "df.shape"
   ]
  },
  {
   "cell_type": "code",
   "execution_count": 52,
   "metadata": {},
   "outputs": [
    {
     "data": {
      "text/html": [
       "<div>\n",
       "<style scoped>\n",
       "    .dataframe tbody tr th:only-of-type {\n",
       "        vertical-align: middle;\n",
       "    }\n",
       "\n",
       "    .dataframe tbody tr th {\n",
       "        vertical-align: top;\n",
       "    }\n",
       "\n",
       "    .dataframe thead th {\n",
       "        text-align: right;\n",
       "    }\n",
       "</style>\n",
       "<table border=\"1\" class=\"dataframe\">\n",
       "  <thead>\n",
       "    <tr style=\"text-align: right;\">\n",
       "      <th></th>\n",
       "      <th>id</th>\n",
       "      <th>name</th>\n",
       "      <th>bio</th>\n",
       "      <th>terms</th>\n",
       "    </tr>\n",
       "  </thead>\n",
       "  <tbody>\n",
       "    <tr>\n",
       "      <td>0</td>\n",
       "      <td>{'bioguide': 'W000178', 'govtrack': 411351, 'i...</td>\n",
       "      <td>{'first': 'George', 'last': 'Washington'}</td>\n",
       "      <td>{'birthday': '1732-02-22', 'gender': 'M'}</td>\n",
       "      <td>[{'type': 'prez', 'start': '1789-04-30', 'end'...</td>\n",
       "    </tr>\n",
       "    <tr>\n",
       "      <td>1</td>\n",
       "      <td>{'bioguide': 'A000039', 'govtrack': 400699, 'i...</td>\n",
       "      <td>{'first': 'John', 'last': 'Adams'}</td>\n",
       "      <td>{'birthday': '1735-10-19', 'gender': 'M'}</td>\n",
       "      <td>[{'type': 'viceprez', 'start': '1789-04-21', '...</td>\n",
       "    </tr>\n",
       "    <tr>\n",
       "      <td>2</td>\n",
       "      <td>{'bioguide': 'J000069', 'govtrack': 405974, 'i...</td>\n",
       "      <td>{'first': 'Thomas', 'last': 'Jefferson'}</td>\n",
       "      <td>{'birthday': '1743-04-13', 'gender': 'M'}</td>\n",
       "      <td>[{'type': 'viceprez', 'start': '1797-03-04', '...</td>\n",
       "    </tr>\n",
       "    <tr>\n",
       "      <td>3</td>\n",
       "      <td>{'bioguide': 'B001133', 'govtrack': 402077, 'i...</td>\n",
       "      <td>{'first': 'Aaron', 'last': 'Burr', 'suffix': '...</td>\n",
       "      <td>{'birthday': '1756-02-06', 'gender': 'M'}</td>\n",
       "      <td>[{'type': 'viceprez', 'start': '1801-03-04', '...</td>\n",
       "    </tr>\n",
       "    <tr>\n",
       "      <td>4</td>\n",
       "      <td>{'bioguide': 'C000527', 'govtrack': 412587}</td>\n",
       "      <td>{'first': 'George', 'last': 'Clinton'}</td>\n",
       "      <td>{'birthday': '1739-07-26', 'gender': 'M'}</td>\n",
       "      <td>[{'type': 'viceprez', 'start': '1805-03-04', '...</td>\n",
       "    </tr>\n",
       "  </tbody>\n",
       "</table>\n",
       "</div>"
      ],
      "text/plain": [
       "                                                  id  \\\n",
       "0  {'bioguide': 'W000178', 'govtrack': 411351, 'i...   \n",
       "1  {'bioguide': 'A000039', 'govtrack': 400699, 'i...   \n",
       "2  {'bioguide': 'J000069', 'govtrack': 405974, 'i...   \n",
       "3  {'bioguide': 'B001133', 'govtrack': 402077, 'i...   \n",
       "4        {'bioguide': 'C000527', 'govtrack': 412587}   \n",
       "\n",
       "                                                name  \\\n",
       "0          {'first': 'George', 'last': 'Washington'}   \n",
       "1                 {'first': 'John', 'last': 'Adams'}   \n",
       "2           {'first': 'Thomas', 'last': 'Jefferson'}   \n",
       "3  {'first': 'Aaron', 'last': 'Burr', 'suffix': '...   \n",
       "4             {'first': 'George', 'last': 'Clinton'}   \n",
       "\n",
       "                                         bio  \\\n",
       "0  {'birthday': '1732-02-22', 'gender': 'M'}   \n",
       "1  {'birthday': '1735-10-19', 'gender': 'M'}   \n",
       "2  {'birthday': '1743-04-13', 'gender': 'M'}   \n",
       "3  {'birthday': '1756-02-06', 'gender': 'M'}   \n",
       "4  {'birthday': '1739-07-26', 'gender': 'M'}   \n",
       "\n",
       "                                               terms  \n",
       "0  [{'type': 'prez', 'start': '1789-04-30', 'end'...  \n",
       "1  [{'type': 'viceprez', 'start': '1789-04-21', '...  \n",
       "2  [{'type': 'viceprez', 'start': '1797-03-04', '...  \n",
       "3  [{'type': 'viceprez', 'start': '1801-03-04', '...  \n",
       "4  [{'type': 'viceprez', 'start': '1805-03-04', '...  "
      ]
     },
     "execution_count": 52,
     "metadata": {},
     "output_type": "execute_result"
    }
   ],
   "source": [
    "df.head()"
   ]
  },
  {
   "cell_type": "markdown",
   "metadata": {},
   "source": [
    "#### From Normalize"
   ]
  },
  {
   "cell_type": "code",
   "execution_count": 54,
   "metadata": {},
   "outputs": [
    {
     "data": {
      "text/plain": [
       "(125, 23)"
      ]
     },
     "execution_count": 54,
     "metadata": {},
     "output_type": "execute_result"
    }
   ],
   "source": [
    "df_flatten = flat_table.normalize(df)\n",
    "df_flatten.shape"
   ]
  },
  {
   "cell_type": "markdown",
   "metadata": {},
   "source": [
    "#### From Mapper"
   ]
  },
  {
   "cell_type": "code",
   "execution_count": 50,
   "metadata": {},
   "outputs": [
    {
     "data": {
      "text/plain": [
       "(125, 23)"
      ]
     },
     "execution_count": 50,
     "metadata": {},
     "output_type": "execute_result"
    }
   ],
   "source": [
    "mapper = flat_table.mapper(df)\n",
    "flat_table.normalize(mapper, is_mapper=True).shape"
   ]
  },
  {
   "cell_type": "markdown",
   "metadata": {},
   "source": [
    "#### Final Table"
   ]
  },
  {
   "cell_type": "code",
   "execution_count": 56,
   "metadata": {},
   "outputs": [
    {
     "data": {
      "text/plain": [
       "Index(['index', 'fec', 'votesmart', 'opensecrets', 'lis', 'thomas', 'icpsr',\n",
       "       'icpsr_prez', 'govtrack', 'bioguide', 'nickname', 'middle', 'suffix',\n",
       "       'last', 'first', 'religion', 'gender', 'birthday', 'how', 'party',\n",
       "       'end', 'start', 'type'],\n",
       "      dtype='object')"
      ]
     },
     "execution_count": 56,
     "metadata": {},
     "output_type": "execute_result"
    }
   ],
   "source": [
    "df_flatten.columns"
   ]
  }
 ],
 "metadata": {
  "kernelspec": {
   "display_name": "Python 3",
   "language": "python",
   "name": "python3"
  },
  "language_info": {
   "codemirror_mode": {
    "name": "ipython",
    "version": 3
   },
   "file_extension": ".py",
   "mimetype": "text/x-python",
   "name": "python",
   "nbconvert_exporter": "python",
   "pygments_lexer": "ipython3",
   "version": "3.7.4"
  }
 },
 "nbformat": 4,
 "nbformat_minor": 4
}
